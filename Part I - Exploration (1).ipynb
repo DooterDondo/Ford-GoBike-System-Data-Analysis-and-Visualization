{
 "cells": [
  {
   "cell_type": "markdown",
   "id": "416af512",
   "metadata": {},
   "source": [
    " # <font color =\"red\">Part I (Exploring the Ford GoBike System Data)</font>\n",
    "## <font color =\"green\">by Dooter Dondo</font>"
   ]
  },
  {
   "cell_type": "markdown",
   "id": "5462a6ab",
   "metadata": {},
   "source": [
    "## Dataset"
   ]
  },
  {
   "cell_type": "markdown",
   "id": "fef99ebf",
   "metadata": {},
   "source": [
    "This data set includes information about 183 412individual rides made in a bike-sharing system covering the greater San Francisco Bay area. This data set includes information such as the `start` and `end` station names, `duration of the trips` and alot more. This dataset can be found on [ford.com](ford.com)"
   ]
  },
  {
   "cell_type": "markdown",
   "id": "d99a65a4",
   "metadata": {},
   "source": [
    "\n",
    "## Summary of Findings"
   ]
  },
  {
   "cell_type": "markdown",
   "id": "4c61aed3",
   "metadata": {},
   "source": [
    "In the exploration, I found that there is no significant relationship between the age of the \n",
    "riders and how long they will take to complete their trip. It is however worthy of note that\n",
    "the oldest member was identified by the other gender.\n"
   ]
  },
  {
   "cell_type": "markdown",
   "id": "ec5547de",
   "metadata": {},
   "source": [
    "## Key Insights for Presentation"
   ]
  },
  {
   "cell_type": "markdown",
   "id": "2ce40477",
   "metadata": {},
   "source": [
    "For the presentation, I focused majorly on showing that no relationship exists between the age \n",
    "of the riders and the mean duration of their trips.\n"
   ]
  },
  {
   "cell_type": "markdown",
   "id": "66f48ffe",
   "metadata": {},
   "source": [
    " ### <font color =\"blue\"> Data wrangling Phase</font>"
   ]
  },
  {
   "cell_type": "code",
   "execution_count": 38,
   "id": "b5a07794",
   "metadata": {},
   "outputs": [
    {
     "data": {
      "text/html": [
       "<style type=\"text/css\">\n",
       "table.dataframe td, table.dataframe th {\n",
       "    border: 1px  black solid !important;\n",
       "  color: black !important;\n",
       "}\n",
       "</style>\n",
       "# importing all required packages and setting plots to be embedded inline\n",
       "import numpy as np\n",
       "import pandas as pd\n",
       "import matplotlib.pyplot as plt\n",
       "import seaborn as sb\n",
       "sb.set_style('darkgrid')\n",
       "\n",
       "%matplotlib inline\n",
       "\n",
       "import warnings\n",
       "warnings.filterwarnings('ignore')\n"
      ],
      "text/plain": [
       "<IPython.core.display.HTML object>"
      ]
     },
     "metadata": {},
     "output_type": "display_data"
    }
   ],
   "source": [
    "%%HTML\n",
    "<style type=\"text/css\">\n",
    "table.dataframe td, table.dataframe th {\n",
    "    border: 1px  black solid !important;\n",
    "  color: black !important;\n",
    "}\n",
    "</style>\n",
    "# importing all required packages and setting plots to be embedded inline\n",
    "import numpy as np\n",
    "import pandas as pd\n",
    "import matplotlib.pyplot as plt\n",
    "import seaborn as sb\n",
    "sb.set_style('darkgrid')\n",
    "\n",
    "%matplotlib inline\n",
    "\n",
    "import warnings\n",
    "warnings.filterwarnings('ignore')"
   ]
  },
  {
   "cell_type": "code",
   "execution_count": 39,
   "id": "c213eb5e",
   "metadata": {},
   "outputs": [],
   "source": [
    "import pandas as pd\n",
    "# Read in the dataset into a pandas dataframe\n",
    "goBike = pd.read_csv('201902-fordgobike-tripdata.csv')"
   ]
  },
  {
   "cell_type": "markdown",
   "id": "3e266a89",
   "metadata": {},
   "source": [
    " #### <font color =\"brown\"> Programmatic and Visual Assesment of the Dataset</font>"
   ]
  },
  {
   "cell_type": "code",
   "execution_count": 40,
   "id": "ec917bdc",
   "metadata": {},
   "outputs": [
    {
     "name": "stdout",
     "output_type": "stream",
     "text": [
      "(183412, 16)\n",
      "****************************************************************************************************\n",
      "<class 'pandas.core.frame.DataFrame'>\n",
      "RangeIndex: 183412 entries, 0 to 183411\n",
      "Data columns (total 16 columns):\n",
      " #   Column                   Non-Null Count   Dtype  \n",
      "---  ------                   --------------   -----  \n",
      " 0   duration_sec             183412 non-null  int64  \n",
      " 1   start_time               183412 non-null  object \n",
      " 2   end_time                 183412 non-null  object \n",
      " 3   start_station_id         183215 non-null  float64\n",
      " 4   start_station_name       183215 non-null  object \n",
      " 5   start_station_latitude   183412 non-null  float64\n",
      " 6   start_station_longitude  183412 non-null  float64\n",
      " 7   end_station_id           183215 non-null  float64\n",
      " 8   end_station_name         183215 non-null  object \n",
      " 9   end_station_latitude     183412 non-null  float64\n",
      " 10  end_station_longitude    183412 non-null  float64\n",
      " 11  bike_id                  183412 non-null  int64  \n",
      " 12  user_type                183412 non-null  object \n",
      " 13  member_birth_year        175147 non-null  float64\n",
      " 14  member_gender            175147 non-null  object \n",
      " 15  bike_share_for_all_trip  183412 non-null  object \n",
      "dtypes: float64(7), int64(2), object(7)\n",
      "memory usage: 22.4+ MB\n",
      "None\n",
      "****************************************************************************************************\n",
      "duration_sec                 int64\n",
      "start_time                  object\n",
      "end_time                    object\n",
      "start_station_id           float64\n",
      "start_station_name          object\n",
      "start_station_latitude     float64\n",
      "start_station_longitude    float64\n",
      "end_station_id             float64\n",
      "end_station_name            object\n",
      "end_station_latitude       float64\n",
      "end_station_longitude      float64\n",
      "bike_id                      int64\n",
      "user_type                   object\n",
      "member_birth_year          float64\n",
      "member_gender               object\n",
      "bike_share_for_all_trip     object\n",
      "dtype: object\n"
     ]
    },
    {
     "data": {
      "text/html": [
       "<div>\n",
       "<style scoped>\n",
       "    .dataframe tbody tr th:only-of-type {\n",
       "        vertical-align: middle;\n",
       "    }\n",
       "\n",
       "    .dataframe tbody tr th {\n",
       "        vertical-align: top;\n",
       "    }\n",
       "\n",
       "    .dataframe thead th {\n",
       "        text-align: right;\n",
       "    }\n",
       "</style>\n",
       "<table border=\"1\" class=\"dataframe\">\n",
       "  <thead>\n",
       "    <tr style=\"text-align: right;\">\n",
       "      <th></th>\n",
       "      <th>duration_sec</th>\n",
       "      <th>start_time</th>\n",
       "      <th>end_time</th>\n",
       "      <th>start_station_id</th>\n",
       "      <th>start_station_name</th>\n",
       "      <th>start_station_latitude</th>\n",
       "      <th>start_station_longitude</th>\n",
       "      <th>end_station_id</th>\n",
       "      <th>end_station_name</th>\n",
       "      <th>end_station_latitude</th>\n",
       "      <th>end_station_longitude</th>\n",
       "      <th>bike_id</th>\n",
       "      <th>user_type</th>\n",
       "      <th>member_birth_year</th>\n",
       "      <th>member_gender</th>\n",
       "      <th>bike_share_for_all_trip</th>\n",
       "    </tr>\n",
       "  </thead>\n",
       "  <tbody>\n",
       "    <tr>\n",
       "      <th>0</th>\n",
       "      <td>52185</td>\n",
       "      <td>2019-02-28 17:32:10.1450</td>\n",
       "      <td>2019-03-01 08:01:55.9750</td>\n",
       "      <td>21.0</td>\n",
       "      <td>Montgomery St BART Station (Market St at 2nd St)</td>\n",
       "      <td>37.789625</td>\n",
       "      <td>-122.400811</td>\n",
       "      <td>13.0</td>\n",
       "      <td>Commercial St at Montgomery St</td>\n",
       "      <td>37.794231</td>\n",
       "      <td>-122.402923</td>\n",
       "      <td>4902</td>\n",
       "      <td>Customer</td>\n",
       "      <td>1984.0</td>\n",
       "      <td>Male</td>\n",
       "      <td>No</td>\n",
       "    </tr>\n",
       "    <tr>\n",
       "      <th>1</th>\n",
       "      <td>42521</td>\n",
       "      <td>2019-02-28 18:53:21.7890</td>\n",
       "      <td>2019-03-01 06:42:03.0560</td>\n",
       "      <td>23.0</td>\n",
       "      <td>The Embarcadero at Steuart St</td>\n",
       "      <td>37.791464</td>\n",
       "      <td>-122.391034</td>\n",
       "      <td>81.0</td>\n",
       "      <td>Berry St at 4th St</td>\n",
       "      <td>37.775880</td>\n",
       "      <td>-122.393170</td>\n",
       "      <td>2535</td>\n",
       "      <td>Customer</td>\n",
       "      <td>NaN</td>\n",
       "      <td>NaN</td>\n",
       "      <td>No</td>\n",
       "    </tr>\n",
       "    <tr>\n",
       "      <th>2</th>\n",
       "      <td>61854</td>\n",
       "      <td>2019-02-28 12:13:13.2180</td>\n",
       "      <td>2019-03-01 05:24:08.1460</td>\n",
       "      <td>86.0</td>\n",
       "      <td>Market St at Dolores St</td>\n",
       "      <td>37.769305</td>\n",
       "      <td>-122.426826</td>\n",
       "      <td>3.0</td>\n",
       "      <td>Powell St BART Station (Market St at 4th St)</td>\n",
       "      <td>37.786375</td>\n",
       "      <td>-122.404904</td>\n",
       "      <td>5905</td>\n",
       "      <td>Customer</td>\n",
       "      <td>1972.0</td>\n",
       "      <td>Male</td>\n",
       "      <td>No</td>\n",
       "    </tr>\n",
       "    <tr>\n",
       "      <th>3</th>\n",
       "      <td>36490</td>\n",
       "      <td>2019-02-28 17:54:26.0100</td>\n",
       "      <td>2019-03-01 04:02:36.8420</td>\n",
       "      <td>375.0</td>\n",
       "      <td>Grove St at Masonic Ave</td>\n",
       "      <td>37.774836</td>\n",
       "      <td>-122.446546</td>\n",
       "      <td>70.0</td>\n",
       "      <td>Central Ave at Fell St</td>\n",
       "      <td>37.773311</td>\n",
       "      <td>-122.444293</td>\n",
       "      <td>6638</td>\n",
       "      <td>Subscriber</td>\n",
       "      <td>1989.0</td>\n",
       "      <td>Other</td>\n",
       "      <td>No</td>\n",
       "    </tr>\n",
       "    <tr>\n",
       "      <th>4</th>\n",
       "      <td>1585</td>\n",
       "      <td>2019-02-28 23:54:18.5490</td>\n",
       "      <td>2019-03-01 00:20:44.0740</td>\n",
       "      <td>7.0</td>\n",
       "      <td>Frank H Ogawa Plaza</td>\n",
       "      <td>37.804562</td>\n",
       "      <td>-122.271738</td>\n",
       "      <td>222.0</td>\n",
       "      <td>10th Ave at E 15th St</td>\n",
       "      <td>37.792714</td>\n",
       "      <td>-122.248780</td>\n",
       "      <td>4898</td>\n",
       "      <td>Subscriber</td>\n",
       "      <td>1974.0</td>\n",
       "      <td>Male</td>\n",
       "      <td>Yes</td>\n",
       "    </tr>\n",
       "    <tr>\n",
       "      <th>5</th>\n",
       "      <td>1793</td>\n",
       "      <td>2019-02-28 23:49:58.6320</td>\n",
       "      <td>2019-03-01 00:19:51.7600</td>\n",
       "      <td>93.0</td>\n",
       "      <td>4th St at Mission Bay Blvd S</td>\n",
       "      <td>37.770407</td>\n",
       "      <td>-122.391198</td>\n",
       "      <td>323.0</td>\n",
       "      <td>Broadway at Kearny</td>\n",
       "      <td>37.798014</td>\n",
       "      <td>-122.405950</td>\n",
       "      <td>5200</td>\n",
       "      <td>Subscriber</td>\n",
       "      <td>1959.0</td>\n",
       "      <td>Male</td>\n",
       "      <td>No</td>\n",
       "    </tr>\n",
       "    <tr>\n",
       "      <th>6</th>\n",
       "      <td>1147</td>\n",
       "      <td>2019-02-28 23:55:35.1040</td>\n",
       "      <td>2019-03-01 00:14:42.5880</td>\n",
       "      <td>300.0</td>\n",
       "      <td>Palm St at Willow St</td>\n",
       "      <td>37.317298</td>\n",
       "      <td>-121.884995</td>\n",
       "      <td>312.0</td>\n",
       "      <td>San Jose Diridon Station</td>\n",
       "      <td>37.329732</td>\n",
       "      <td>-121.901782</td>\n",
       "      <td>3803</td>\n",
       "      <td>Subscriber</td>\n",
       "      <td>1983.0</td>\n",
       "      <td>Female</td>\n",
       "      <td>No</td>\n",
       "    </tr>\n",
       "    <tr>\n",
       "      <th>7</th>\n",
       "      <td>1615</td>\n",
       "      <td>2019-02-28 23:41:06.7660</td>\n",
       "      <td>2019-03-01 00:08:02.7560</td>\n",
       "      <td>10.0</td>\n",
       "      <td>Washington St at Kearny St</td>\n",
       "      <td>37.795393</td>\n",
       "      <td>-122.404770</td>\n",
       "      <td>127.0</td>\n",
       "      <td>Valencia St at 21st St</td>\n",
       "      <td>37.756708</td>\n",
       "      <td>-122.421025</td>\n",
       "      <td>6329</td>\n",
       "      <td>Subscriber</td>\n",
       "      <td>1989.0</td>\n",
       "      <td>Male</td>\n",
       "      <td>No</td>\n",
       "    </tr>\n",
       "    <tr>\n",
       "      <th>8</th>\n",
       "      <td>1570</td>\n",
       "      <td>2019-02-28 23:41:48.7900</td>\n",
       "      <td>2019-03-01 00:07:59.7150</td>\n",
       "      <td>10.0</td>\n",
       "      <td>Washington St at Kearny St</td>\n",
       "      <td>37.795393</td>\n",
       "      <td>-122.404770</td>\n",
       "      <td>127.0</td>\n",
       "      <td>Valencia St at 21st St</td>\n",
       "      <td>37.756708</td>\n",
       "      <td>-122.421025</td>\n",
       "      <td>6548</td>\n",
       "      <td>Subscriber</td>\n",
       "      <td>1988.0</td>\n",
       "      <td>Other</td>\n",
       "      <td>No</td>\n",
       "    </tr>\n",
       "    <tr>\n",
       "      <th>9</th>\n",
       "      <td>1049</td>\n",
       "      <td>2019-02-28 23:49:47.6990</td>\n",
       "      <td>2019-03-01 00:07:17.0250</td>\n",
       "      <td>19.0</td>\n",
       "      <td>Post St at Kearny St</td>\n",
       "      <td>37.788975</td>\n",
       "      <td>-122.403452</td>\n",
       "      <td>121.0</td>\n",
       "      <td>Mission Playground</td>\n",
       "      <td>37.759210</td>\n",
       "      <td>-122.421339</td>\n",
       "      <td>6488</td>\n",
       "      <td>Subscriber</td>\n",
       "      <td>1992.0</td>\n",
       "      <td>Male</td>\n",
       "      <td>No</td>\n",
       "    </tr>\n",
       "  </tbody>\n",
       "</table>\n",
       "</div>"
      ],
      "text/plain": [
       "   duration_sec                start_time                  end_time  \\\n",
       "0         52185  2019-02-28 17:32:10.1450  2019-03-01 08:01:55.9750   \n",
       "1         42521  2019-02-28 18:53:21.7890  2019-03-01 06:42:03.0560   \n",
       "2         61854  2019-02-28 12:13:13.2180  2019-03-01 05:24:08.1460   \n",
       "3         36490  2019-02-28 17:54:26.0100  2019-03-01 04:02:36.8420   \n",
       "4          1585  2019-02-28 23:54:18.5490  2019-03-01 00:20:44.0740   \n",
       "5          1793  2019-02-28 23:49:58.6320  2019-03-01 00:19:51.7600   \n",
       "6          1147  2019-02-28 23:55:35.1040  2019-03-01 00:14:42.5880   \n",
       "7          1615  2019-02-28 23:41:06.7660  2019-03-01 00:08:02.7560   \n",
       "8          1570  2019-02-28 23:41:48.7900  2019-03-01 00:07:59.7150   \n",
       "9          1049  2019-02-28 23:49:47.6990  2019-03-01 00:07:17.0250   \n",
       "\n",
       "   start_station_id                                start_station_name  \\\n",
       "0              21.0  Montgomery St BART Station (Market St at 2nd St)   \n",
       "1              23.0                     The Embarcadero at Steuart St   \n",
       "2              86.0                           Market St at Dolores St   \n",
       "3             375.0                           Grove St at Masonic Ave   \n",
       "4               7.0                               Frank H Ogawa Plaza   \n",
       "5              93.0                      4th St at Mission Bay Blvd S   \n",
       "6             300.0                              Palm St at Willow St   \n",
       "7              10.0                        Washington St at Kearny St   \n",
       "8              10.0                        Washington St at Kearny St   \n",
       "9              19.0                              Post St at Kearny St   \n",
       "\n",
       "   start_station_latitude  start_station_longitude  end_station_id  \\\n",
       "0               37.789625              -122.400811            13.0   \n",
       "1               37.791464              -122.391034            81.0   \n",
       "2               37.769305              -122.426826             3.0   \n",
       "3               37.774836              -122.446546            70.0   \n",
       "4               37.804562              -122.271738           222.0   \n",
       "5               37.770407              -122.391198           323.0   \n",
       "6               37.317298              -121.884995           312.0   \n",
       "7               37.795393              -122.404770           127.0   \n",
       "8               37.795393              -122.404770           127.0   \n",
       "9               37.788975              -122.403452           121.0   \n",
       "\n",
       "                               end_station_name  end_station_latitude  \\\n",
       "0                Commercial St at Montgomery St             37.794231   \n",
       "1                            Berry St at 4th St             37.775880   \n",
       "2  Powell St BART Station (Market St at 4th St)             37.786375   \n",
       "3                        Central Ave at Fell St             37.773311   \n",
       "4                         10th Ave at E 15th St             37.792714   \n",
       "5                            Broadway at Kearny             37.798014   \n",
       "6                      San Jose Diridon Station             37.329732   \n",
       "7                        Valencia St at 21st St             37.756708   \n",
       "8                        Valencia St at 21st St             37.756708   \n",
       "9                            Mission Playground             37.759210   \n",
       "\n",
       "   end_station_longitude  bike_id   user_type  member_birth_year  \\\n",
       "0            -122.402923     4902    Customer             1984.0   \n",
       "1            -122.393170     2535    Customer                NaN   \n",
       "2            -122.404904     5905    Customer             1972.0   \n",
       "3            -122.444293     6638  Subscriber             1989.0   \n",
       "4            -122.248780     4898  Subscriber             1974.0   \n",
       "5            -122.405950     5200  Subscriber             1959.0   \n",
       "6            -121.901782     3803  Subscriber             1983.0   \n",
       "7            -122.421025     6329  Subscriber             1989.0   \n",
       "8            -122.421025     6548  Subscriber             1988.0   \n",
       "9            -122.421339     6488  Subscriber             1992.0   \n",
       "\n",
       "  member_gender bike_share_for_all_trip  \n",
       "0          Male                      No  \n",
       "1           NaN                      No  \n",
       "2          Male                      No  \n",
       "3         Other                      No  \n",
       "4          Male                     Yes  \n",
       "5          Male                      No  \n",
       "6        Female                      No  \n",
       "7          Male                      No  \n",
       "8         Other                      No  \n",
       "9          Male                      No  "
      ]
     },
     "execution_count": 40,
     "metadata": {},
     "output_type": "execute_result"
    }
   ],
   "source": [
    "print(goBike.shape)\n",
    "print('*' *100)\n",
    "print(goBike.info())\n",
    "print('*' *100)\n",
    "print(goBike.dtypes)\n",
    "goBike.head(10)"
   ]
  },
  {
   "cell_type": "markdown",
   "id": "5131439d",
   "metadata": {},
   "source": [
    " #### <font color =\"brown\"> checking the dataset for missing values</font>"
   ]
  },
  {
   "cell_type": "code",
   "execution_count": 41,
   "id": "4d50d2b0",
   "metadata": {},
   "outputs": [
    {
     "data": {
      "text/plain": [
       "duration_sec                  0\n",
       "start_time                    0\n",
       "end_time                      0\n",
       "start_station_id            197\n",
       "start_station_name          197\n",
       "start_station_latitude        0\n",
       "start_station_longitude       0\n",
       "end_station_id              197\n",
       "end_station_name            197\n",
       "end_station_latitude          0\n",
       "end_station_longitude         0\n",
       "bike_id                       0\n",
       "user_type                     0\n",
       "member_birth_year          8265\n",
       "member_gender              8265\n",
       "bike_share_for_all_trip       0\n",
       "dtype: int64"
      ]
     },
     "execution_count": 41,
     "metadata": {},
     "output_type": "execute_result"
    }
   ],
   "source": [
    "# checking for missing values \n",
    "goBike.isnull().sum()"
   ]
  },
  {
   "cell_type": "markdown",
   "id": "effd4a2f",
   "metadata": {},
   "source": [
    " ### <font color =\"purple\"> Cleaning the Dataset</font>"
   ]
  },
  {
   "cell_type": "markdown",
   "id": "0486f177",
   "metadata": {},
   "source": [
    " #### <font color =\"tan\"> Quality Issues Identified</font>"
   ]
  },
  {
   "cell_type": "markdown",
   "id": "30031878",
   "metadata": {},
   "source": [
    "* Missing data accross multiple columns\n",
    "* Incorrect data types in `start` and `end` time columns, and in `bike_id` column"
   ]
  },
  {
   "cell_type": "code",
   "execution_count": 42,
   "id": "368d34f6",
   "metadata": {},
   "outputs": [],
   "source": [
    "# make a copy of the original dataset before cleaning it\n",
    "goBike_clean = goBike.copy()"
   ]
  },
  {
   "cell_type": "markdown",
   "id": "e13c3c4c",
   "metadata": {},
   "source": [
    " ### <font color =\"purple\"> Missing data accross multiple columns </font>"
   ]
  },
  {
   "cell_type": "markdown",
   "id": "b7dec441",
   "metadata": {},
   "source": [
    "#### Define"
   ]
  },
  {
   "cell_type": "markdown",
   "id": "db2b9195",
   "metadata": {},
   "source": [
    "##### Replacing all missing values by the modal entry values in each column"
   ]
  },
  {
   "cell_type": "markdown",
   "id": "9b28dda7",
   "metadata": {},
   "source": [
    "#### Code"
   ]
  },
  {
   "cell_type": "code",
   "execution_count": 43,
   "id": "e84db313",
   "metadata": {},
   "outputs": [],
   "source": [
    "goBike_clean = goBike_clean.fillna(goBike_clean.mode().iloc[0])"
   ]
  },
  {
   "cell_type": "markdown",
   "id": "8ef76e32",
   "metadata": {},
   "source": [
    "#### Test"
   ]
  },
  {
   "cell_type": "code",
   "execution_count": 44,
   "id": "b986f34a",
   "metadata": {},
   "outputs": [
    {
     "data": {
      "text/plain": [
       "duration_sec               0\n",
       "start_time                 0\n",
       "end_time                   0\n",
       "start_station_id           0\n",
       "start_station_name         0\n",
       "start_station_latitude     0\n",
       "start_station_longitude    0\n",
       "end_station_id             0\n",
       "end_station_name           0\n",
       "end_station_latitude       0\n",
       "end_station_longitude      0\n",
       "bike_id                    0\n",
       "user_type                  0\n",
       "member_birth_year          0\n",
       "member_gender              0\n",
       "bike_share_for_all_trip    0\n",
       "dtype: int64"
      ]
     },
     "execution_count": 44,
     "metadata": {},
     "output_type": "execute_result"
    }
   ],
   "source": [
    "goBike_clean.isnull().sum()"
   ]
  },
  {
   "cell_type": "markdown",
   "id": "d9dde57d",
   "metadata": {},
   "source": [
    " ### <font color =\"purple\"> Incorrect Datatypes </font>"
   ]
  },
  {
   "cell_type": "markdown",
   "id": "fa38f778",
   "metadata": {},
   "source": [
    "#### Define"
   ]
  },
  {
   "cell_type": "markdown",
   "id": "a0273427",
   "metadata": {},
   "source": [
    "Change the datatype in the `start` and `end` time columns to timestamp"
   ]
  },
  {
   "cell_type": "markdown",
   "id": "2fff08e1",
   "metadata": {},
   "source": [
    "#### Code"
   ]
  },
  {
   "cell_type": "code",
   "execution_count": 82,
   "id": "aaf84d09",
   "metadata": {},
   "outputs": [],
   "source": [
    "goBike_clean.start_time = pd.to_datetime(goBike_clean.start_time)\n",
    "goBike_clean.end_time= pd.to_datetime(goBike_clean.end_time)"
   ]
  },
  {
   "cell_type": "markdown",
   "id": "59dd8949",
   "metadata": {},
   "source": [
    "#### Test"
   ]
  },
  {
   "cell_type": "code",
   "execution_count": 46,
   "id": "e76c28a6",
   "metadata": {},
   "outputs": [
    {
     "data": {
      "text/plain": [
       "pandas._libs.tslibs.timestamps.Timestamp"
      ]
     },
     "execution_count": 46,
     "metadata": {},
     "output_type": "execute_result"
    }
   ],
   "source": [
    "type(goBike_clean.end_time[0])"
   ]
  },
  {
   "cell_type": "markdown",
   "id": "cba8d368",
   "metadata": {},
   "source": [
    "#### Change the datatype in the `bike_id` column to string"
   ]
  },
  {
   "cell_type": "markdown",
   "id": "a09b1f85",
   "metadata": {},
   "source": [
    "#### Define"
   ]
  },
  {
   "cell_type": "markdown",
   "id": "eb44b118",
   "metadata": {},
   "source": [
    "Convert the integer datatype to object or string in the `bike_id` column"
   ]
  },
  {
   "cell_type": "markdown",
   "id": "848fe33d",
   "metadata": {},
   "source": [
    "#### Code"
   ]
  },
  {
   "cell_type": "code",
   "execution_count": 47,
   "id": "058fdfb6",
   "metadata": {},
   "outputs": [],
   "source": [
    "goBike_clean.bike_id =goBike_clean.bike_id.astype(str)"
   ]
  },
  {
   "cell_type": "markdown",
   "id": "b4617cf2",
   "metadata": {},
   "source": [
    "##### Test"
   ]
  },
  {
   "cell_type": "code",
   "execution_count": 48,
   "id": "abbeb0aa",
   "metadata": {},
   "outputs": [
    {
     "data": {
      "text/plain": [
       "str"
      ]
     },
     "execution_count": 48,
     "metadata": {},
     "output_type": "execute_result"
    }
   ],
   "source": [
    "type(goBike_clean.bike_id[0])"
   ]
  },
  {
   "cell_type": "markdown",
   "id": "18cac7b5",
   "metadata": {},
   "source": [
    "## What is the structure of your dataset?"
   ]
  },
  {
   "cell_type": "markdown",
   "id": "7391a896",
   "metadata": {},
   "source": [
    "#### This dataset is made up  183,412 rows and 16 columns. There are 2 datetime, 7 float, 1 int and 6 string or object data types."
   ]
  },
  {
   "cell_type": "markdown",
   "id": "75a16d65",
   "metadata": {},
   "source": [
    "## What is/are the main feature(s) of interest in your dataset?"
   ]
  },
  {
   "cell_type": "markdown",
   "id": "e0abce26",
   "metadata": {},
   "source": [
    "#### I am most interested in finding out the the relationship between the gender, the mean time spent for a trip and year of birth of the users who completed their trips"
   ]
  },
  {
   "cell_type": "markdown",
   "id": "71d1f1f7",
   "metadata": {},
   "source": [
    "## What features in the dataset do you think will help support your investigation into your feature(s) of interest?"
   ]
  },
  {
   "cell_type": "markdown",
   "id": "161ba44c",
   "metadata": {},
   "source": [
    "#### I believe the member_gender, the user_type and the duration_sec will support my investigations here and also the birth_year of the members"
   ]
  },
  {
   "cell_type": "markdown",
   "id": "33746336",
   "metadata": {},
   "source": [
    " ## <font color =\"gold\"> Exploratory Data Analysis </font>"
   ]
  },
  {
   "cell_type": "markdown",
   "id": "243e7d26",
   "metadata": {},
   "source": [
    "## Univariate Exploration"
   ]
  },
  {
   "cell_type": "code",
   "execution_count": 49,
   "id": "60a12e60",
   "metadata": {},
   "outputs": [
    {
     "data": {
      "text/html": [
       "<div>\n",
       "<style scoped>\n",
       "    .dataframe tbody tr th:only-of-type {\n",
       "        vertical-align: middle;\n",
       "    }\n",
       "\n",
       "    .dataframe tbody tr th {\n",
       "        vertical-align: top;\n",
       "    }\n",
       "\n",
       "    .dataframe thead th {\n",
       "        text-align: right;\n",
       "    }\n",
       "</style>\n",
       "<table border=\"1\" class=\"dataframe\">\n",
       "  <thead>\n",
       "    <tr style=\"text-align: right;\">\n",
       "      <th></th>\n",
       "      <th>duration_sec</th>\n",
       "      <th>start_time</th>\n",
       "      <th>end_time</th>\n",
       "      <th>start_station_id</th>\n",
       "      <th>start_station_name</th>\n",
       "      <th>start_station_latitude</th>\n",
       "      <th>start_station_longitude</th>\n",
       "      <th>end_station_id</th>\n",
       "      <th>end_station_name</th>\n",
       "      <th>end_station_latitude</th>\n",
       "      <th>end_station_longitude</th>\n",
       "      <th>bike_id</th>\n",
       "      <th>user_type</th>\n",
       "      <th>member_birth_year</th>\n",
       "      <th>member_gender</th>\n",
       "      <th>bike_share_for_all_trip</th>\n",
       "    </tr>\n",
       "  </thead>\n",
       "  <tbody>\n",
       "    <tr>\n",
       "      <th>0</th>\n",
       "      <td>52185</td>\n",
       "      <td>2019-02-28 17:32:10.145</td>\n",
       "      <td>2019-03-01 08:01:55.975</td>\n",
       "      <td>21.0</td>\n",
       "      <td>Montgomery St BART Station (Market St at 2nd St)</td>\n",
       "      <td>37.789625</td>\n",
       "      <td>-122.400811</td>\n",
       "      <td>13.0</td>\n",
       "      <td>Commercial St at Montgomery St</td>\n",
       "      <td>37.794231</td>\n",
       "      <td>-122.402923</td>\n",
       "      <td>4902</td>\n",
       "      <td>Customer</td>\n",
       "      <td>1984.0</td>\n",
       "      <td>Male</td>\n",
       "      <td>No</td>\n",
       "    </tr>\n",
       "    <tr>\n",
       "      <th>1</th>\n",
       "      <td>42521</td>\n",
       "      <td>2019-02-28 18:53:21.789</td>\n",
       "      <td>2019-03-01 06:42:03.056</td>\n",
       "      <td>23.0</td>\n",
       "      <td>The Embarcadero at Steuart St</td>\n",
       "      <td>37.791464</td>\n",
       "      <td>-122.391034</td>\n",
       "      <td>81.0</td>\n",
       "      <td>Berry St at 4th St</td>\n",
       "      <td>37.775880</td>\n",
       "      <td>-122.393170</td>\n",
       "      <td>2535</td>\n",
       "      <td>Customer</td>\n",
       "      <td>1988.0</td>\n",
       "      <td>Male</td>\n",
       "      <td>No</td>\n",
       "    </tr>\n",
       "    <tr>\n",
       "      <th>2</th>\n",
       "      <td>61854</td>\n",
       "      <td>2019-02-28 12:13:13.218</td>\n",
       "      <td>2019-03-01 05:24:08.146</td>\n",
       "      <td>86.0</td>\n",
       "      <td>Market St at Dolores St</td>\n",
       "      <td>37.769305</td>\n",
       "      <td>-122.426826</td>\n",
       "      <td>3.0</td>\n",
       "      <td>Powell St BART Station (Market St at 4th St)</td>\n",
       "      <td>37.786375</td>\n",
       "      <td>-122.404904</td>\n",
       "      <td>5905</td>\n",
       "      <td>Customer</td>\n",
       "      <td>1972.0</td>\n",
       "      <td>Male</td>\n",
       "      <td>No</td>\n",
       "    </tr>\n",
       "    <tr>\n",
       "      <th>3</th>\n",
       "      <td>36490</td>\n",
       "      <td>2019-02-28 17:54:26.010</td>\n",
       "      <td>2019-03-01 04:02:36.842</td>\n",
       "      <td>375.0</td>\n",
       "      <td>Grove St at Masonic Ave</td>\n",
       "      <td>37.774836</td>\n",
       "      <td>-122.446546</td>\n",
       "      <td>70.0</td>\n",
       "      <td>Central Ave at Fell St</td>\n",
       "      <td>37.773311</td>\n",
       "      <td>-122.444293</td>\n",
       "      <td>6638</td>\n",
       "      <td>Subscriber</td>\n",
       "      <td>1989.0</td>\n",
       "      <td>Other</td>\n",
       "      <td>No</td>\n",
       "    </tr>\n",
       "    <tr>\n",
       "      <th>4</th>\n",
       "      <td>1585</td>\n",
       "      <td>2019-02-28 23:54:18.549</td>\n",
       "      <td>2019-03-01 00:20:44.074</td>\n",
       "      <td>7.0</td>\n",
       "      <td>Frank H Ogawa Plaza</td>\n",
       "      <td>37.804562</td>\n",
       "      <td>-122.271738</td>\n",
       "      <td>222.0</td>\n",
       "      <td>10th Ave at E 15th St</td>\n",
       "      <td>37.792714</td>\n",
       "      <td>-122.248780</td>\n",
       "      <td>4898</td>\n",
       "      <td>Subscriber</td>\n",
       "      <td>1974.0</td>\n",
       "      <td>Male</td>\n",
       "      <td>Yes</td>\n",
       "    </tr>\n",
       "  </tbody>\n",
       "</table>\n",
       "</div>"
      ],
      "text/plain": [
       "   duration_sec              start_time                end_time  \\\n",
       "0         52185 2019-02-28 17:32:10.145 2019-03-01 08:01:55.975   \n",
       "1         42521 2019-02-28 18:53:21.789 2019-03-01 06:42:03.056   \n",
       "2         61854 2019-02-28 12:13:13.218 2019-03-01 05:24:08.146   \n",
       "3         36490 2019-02-28 17:54:26.010 2019-03-01 04:02:36.842   \n",
       "4          1585 2019-02-28 23:54:18.549 2019-03-01 00:20:44.074   \n",
       "\n",
       "   start_station_id                                start_station_name  \\\n",
       "0              21.0  Montgomery St BART Station (Market St at 2nd St)   \n",
       "1              23.0                     The Embarcadero at Steuart St   \n",
       "2              86.0                           Market St at Dolores St   \n",
       "3             375.0                           Grove St at Masonic Ave   \n",
       "4               7.0                               Frank H Ogawa Plaza   \n",
       "\n",
       "   start_station_latitude  start_station_longitude  end_station_id  \\\n",
       "0               37.789625              -122.400811            13.0   \n",
       "1               37.791464              -122.391034            81.0   \n",
       "2               37.769305              -122.426826             3.0   \n",
       "3               37.774836              -122.446546            70.0   \n",
       "4               37.804562              -122.271738           222.0   \n",
       "\n",
       "                               end_station_name  end_station_latitude  \\\n",
       "0                Commercial St at Montgomery St             37.794231   \n",
       "1                            Berry St at 4th St             37.775880   \n",
       "2  Powell St BART Station (Market St at 4th St)             37.786375   \n",
       "3                        Central Ave at Fell St             37.773311   \n",
       "4                         10th Ave at E 15th St             37.792714   \n",
       "\n",
       "   end_station_longitude bike_id   user_type  member_birth_year member_gender  \\\n",
       "0            -122.402923    4902    Customer             1984.0          Male   \n",
       "1            -122.393170    2535    Customer             1988.0          Male   \n",
       "2            -122.404904    5905    Customer             1972.0          Male   \n",
       "3            -122.444293    6638  Subscriber             1989.0         Other   \n",
       "4            -122.248780    4898  Subscriber             1974.0          Male   \n",
       "\n",
       "  bike_share_for_all_trip  \n",
       "0                      No  \n",
       "1                      No  \n",
       "2                      No  \n",
       "3                      No  \n",
       "4                     Yes  "
      ]
     },
     "execution_count": 49,
     "metadata": {},
     "output_type": "execute_result"
    }
   ],
   "source": [
    "goBike_clean.head()"
   ]
  },
  {
   "cell_type": "markdown",
   "id": "60fc9e75",
   "metadata": {},
   "source": [
    "#### Exploring the highest member gender "
   ]
  },
  {
   "cell_type": "code",
   "execution_count": 50,
   "id": "6bcdbcc6",
   "metadata": {},
   "outputs": [],
   "source": [
    "Hgender = goBike_clean.member_gender.value_counts()"
   ]
  },
  {
   "cell_type": "code",
   "execution_count": 51,
   "id": "d50ef96f",
   "metadata": {},
   "outputs": [
    {
     "data": {
      "text/plain": [
       "Male      138916\n",
       "Female     40844\n",
       "Other       3652\n",
       "Name: member_gender, dtype: int64"
      ]
     },
     "execution_count": 51,
     "metadata": {},
     "output_type": "execute_result"
    }
   ],
   "source": [
    "Hgender"
   ]
  },
  {
   "cell_type": "markdown",
   "id": "9de68911",
   "metadata": {},
   "source": [
    "### Question: What is the highest member gender?"
   ]
  },
  {
   "cell_type": "code",
   "execution_count": 52,
   "id": "ebad365a",
   "metadata": {},
   "outputs": [
    {
     "data": {
      "image/png": "[encoded data removed]",
      "text/plain": [
       "<Figure size 432x288 with 1 Axes>"
      ]
     },
     "metadata": {
      "needs_background": "light"
     },
     "output_type": "display_data"
    }
   ],
   "source": [
    "Hgender.plot(kind = 'bar', color ='gold', xlabel = 'member_gender', ylabel='count', title= 'Highest member gender');"
   ]
  },
  {
   "cell_type": "markdown",
   "id": "ac40caf2",
   "metadata": {},
   "source": [
    "### Answer: The plot above shows the Highest member gender"
   ]
  },
  {
   "cell_type": "markdown",
   "id": "39d195f0",
   "metadata": {},
   "source": [
    "#### Exploring the time the most rides and least rides were completed in"
   ]
  },
  {
   "cell_type": "code",
   "execution_count": 53,
   "id": "35980006",
   "metadata": {},
   "outputs": [],
   "source": [
    "Lduration = goBike_clean.duration_sec.value_counts(ascending=False)"
   ]
  },
  {
   "cell_type": "code",
   "execution_count": 54,
   "id": "326f002e",
   "metadata": {},
   "outputs": [
    {
     "data": {
      "text/plain": [
       "272      311\n",
       "324      292\n",
       "323      291\n",
       "306      291\n",
       "305      290\n",
       "        ... \n",
       "18550      1\n",
       "11018      1\n",
       "2232       1\n",
       "4244       1\n",
       "2822       1\n",
       "Name: duration_sec, Length: 4752, dtype: int64"
      ]
     },
     "execution_count": 54,
     "metadata": {},
     "output_type": "execute_result"
    }
   ],
   "source": [
    "Lduration"
   ]
  },
  {
   "cell_type": "code",
   "execution_count": 55,
   "id": "45e59d85",
   "metadata": {},
   "outputs": [],
   "source": [
    "LdurationTop = Lduration.head(5)"
   ]
  },
  {
   "cell_type": "code",
   "execution_count": 56,
   "id": "dc6daca2",
   "metadata": {},
   "outputs": [
    {
     "data": {
      "text/plain": [
       "272    311\n",
       "324    292\n",
       "323    291\n",
       "306    291\n",
       "305    290\n",
       "Name: duration_sec, dtype: int64"
      ]
     },
     "execution_count": 56,
     "metadata": {},
     "output_type": "execute_result"
    }
   ],
   "source": [
    "LdurationTop"
   ]
  },
  {
   "cell_type": "markdown",
   "id": "dc1a0b19",
   "metadata": {},
   "source": [
    "###  Question: What is the modal duration of time  for completion  trips?"
   ]
  },
  {
   "cell_type": "code",
   "execution_count": 57,
   "id": "96ea7f78",
   "metadata": {},
   "outputs": [
    {
     "data": {
      "image/png": "[encoded data removed]",
      "text/plain": [
       "<Figure size 432x288 with 1 Axes>"
      ]
     },
     "metadata": {},
     "output_type": "display_data"
    }
   ],
   "source": [
    "LdurationTop.plot(kind = 'pie',   title= 'Modal duration for completion of trips', autopct='%1.1f%%',  startangle=0, legend=False);"
   ]
  },
  {
   "cell_type": "markdown",
   "id": "f4044936",
   "metadata": {},
   "source": [
    "### Anser: 21.1% of the riders completed their trips in 272 seconds which is the modal time of completion of trips"
   ]
  },
  {
   "cell_type": "code",
   "execution_count": 58,
   "id": "1ed83d09",
   "metadata": {},
   "outputs": [],
   "source": [
    "sduration = Lduration = goBike_clean.duration_sec.value_counts().nsmallest()"
   ]
  },
  {
   "cell_type": "code",
   "execution_count": 59,
   "id": "876720df",
   "metadata": {},
   "outputs": [
    {
     "data": {
      "text/plain": [
       "3171     1\n",
       "6778     1\n",
       "3169     1\n",
       "16867    1\n",
       "5410     1\n",
       "Name: duration_sec, dtype: int64"
      ]
     },
     "execution_count": 59,
     "metadata": {},
     "output_type": "execute_result"
    }
   ],
   "source": [
    "sduration.head(5)"
   ]
  },
  {
   "cell_type": "code",
   "execution_count": 60,
   "id": "7cad45a1",
   "metadata": {},
   "outputs": [
    {
     "data": {
      "text/html": [
       "<div>\n",
       "<style scoped>\n",
       "    .dataframe tbody tr th:only-of-type {\n",
       "        vertical-align: middle;\n",
       "    }\n",
       "\n",
       "    .dataframe tbody tr th {\n",
       "        vertical-align: top;\n",
       "    }\n",
       "\n",
       "    .dataframe thead th {\n",
       "        text-align: right;\n",
       "    }\n",
       "</style>\n",
       "<table border=\"1\" class=\"dataframe\">\n",
       "  <thead>\n",
       "    <tr style=\"text-align: right;\">\n",
       "      <th></th>\n",
       "      <th>duration_sec</th>\n",
       "      <th>start_station_id</th>\n",
       "      <th>start_station_latitude</th>\n",
       "      <th>start_station_longitude</th>\n",
       "      <th>end_station_id</th>\n",
       "      <th>end_station_latitude</th>\n",
       "      <th>end_station_longitude</th>\n",
       "      <th>member_birth_year</th>\n",
       "    </tr>\n",
       "  </thead>\n",
       "  <tbody>\n",
       "    <tr>\n",
       "      <th>count</th>\n",
       "      <td>183412.000000</td>\n",
       "      <td>183412.000000</td>\n",
       "      <td>183412.000000</td>\n",
       "      <td>183412.000000</td>\n",
       "      <td>183412.000000</td>\n",
       "      <td>183412.000000</td>\n",
       "      <td>183412.000000</td>\n",
       "      <td>183412.000000</td>\n",
       "    </tr>\n",
       "    <tr>\n",
       "      <th>mean</th>\n",
       "      <td>726.078435</td>\n",
       "      <td>138.503866</td>\n",
       "      <td>37.771223</td>\n",
       "      <td>-122.352664</td>\n",
       "      <td>136.174743</td>\n",
       "      <td>37.771427</td>\n",
       "      <td>-122.352250</td>\n",
       "      <td>1984.950347</td>\n",
       "    </tr>\n",
       "    <tr>\n",
       "      <th>std</th>\n",
       "      <td>1794.389780</td>\n",
       "      <td>111.750001</td>\n",
       "      <td>0.099581</td>\n",
       "      <td>0.117097</td>\n",
       "      <td>111.478306</td>\n",
       "      <td>0.099490</td>\n",
       "      <td>0.116673</td>\n",
       "      <td>9.908290</td>\n",
       "    </tr>\n",
       "    <tr>\n",
       "      <th>min</th>\n",
       "      <td>61.000000</td>\n",
       "      <td>3.000000</td>\n",
       "      <td>37.317298</td>\n",
       "      <td>-122.453704</td>\n",
       "      <td>3.000000</td>\n",
       "      <td>37.317298</td>\n",
       "      <td>-122.453704</td>\n",
       "      <td>1878.000000</td>\n",
       "    </tr>\n",
       "    <tr>\n",
       "      <th>25%</th>\n",
       "      <td>325.000000</td>\n",
       "      <td>47.000000</td>\n",
       "      <td>37.770083</td>\n",
       "      <td>-122.412408</td>\n",
       "      <td>44.000000</td>\n",
       "      <td>37.770407</td>\n",
       "      <td>-122.411726</td>\n",
       "      <td>1981.000000</td>\n",
       "    </tr>\n",
       "    <tr>\n",
       "      <th>50%</th>\n",
       "      <td>514.000000</td>\n",
       "      <td>104.000000</td>\n",
       "      <td>37.780760</td>\n",
       "      <td>-122.398285</td>\n",
       "      <td>100.000000</td>\n",
       "      <td>37.781010</td>\n",
       "      <td>-122.398279</td>\n",
       "      <td>1988.000000</td>\n",
       "    </tr>\n",
       "    <tr>\n",
       "      <th>75%</th>\n",
       "      <td>796.000000</td>\n",
       "      <td>239.000000</td>\n",
       "      <td>37.797280</td>\n",
       "      <td>-122.286533</td>\n",
       "      <td>235.000000</td>\n",
       "      <td>37.797320</td>\n",
       "      <td>-122.288045</td>\n",
       "      <td>1992.000000</td>\n",
       "    </tr>\n",
       "    <tr>\n",
       "      <th>max</th>\n",
       "      <td>85444.000000</td>\n",
       "      <td>398.000000</td>\n",
       "      <td>37.880222</td>\n",
       "      <td>-121.874119</td>\n",
       "      <td>398.000000</td>\n",
       "      <td>37.880222</td>\n",
       "      <td>-121.874119</td>\n",
       "      <td>2001.000000</td>\n",
       "    </tr>\n",
       "  </tbody>\n",
       "</table>\n",
       "</div>"
      ],
      "text/plain": [
       "        duration_sec  start_station_id  start_station_latitude  \\\n",
       "count  183412.000000     183412.000000           183412.000000   \n",
       "mean      726.078435        138.503866               37.771223   \n",
       "std      1794.389780        111.750001                0.099581   \n",
       "min        61.000000          3.000000               37.317298   \n",
       "25%       325.000000         47.000000               37.770083   \n",
       "50%       514.000000        104.000000               37.780760   \n",
       "75%       796.000000        239.000000               37.797280   \n",
       "max     85444.000000        398.000000               37.880222   \n",
       "\n",
       "       start_station_longitude  end_station_id  end_station_latitude  \\\n",
       "count            183412.000000   183412.000000         183412.000000   \n",
       "mean               -122.352664      136.174743             37.771427   \n",
       "std                   0.117097      111.478306              0.099490   \n",
       "min                -122.453704        3.000000             37.317298   \n",
       "25%                -122.412408       44.000000             37.770407   \n",
       "50%                -122.398285      100.000000             37.781010   \n",
       "75%                -122.286533      235.000000             37.797320   \n",
       "max                -121.874119      398.000000             37.880222   \n",
       "\n",
       "       end_station_longitude  member_birth_year  \n",
       "count          183412.000000      183412.000000  \n",
       "mean             -122.352250        1984.950347  \n",
       "std                 0.116673           9.908290  \n",
       "min              -122.453704        1878.000000  \n",
       "25%              -122.411726        1981.000000  \n",
       "50%              -122.398279        1988.000000  \n",
       "75%              -122.288045        1992.000000  \n",
       "max              -121.874119        2001.000000  "
      ]
     },
     "execution_count": 60,
     "metadata": {},
     "output_type": "execute_result"
    }
   ],
   "source": [
    "goBike_clean.describe()"
   ]
  },
  {
   "cell_type": "markdown",
   "id": "6edd7c49",
   "metadata": {},
   "source": [
    "### Question: What time duration were the least trips completed?"
   ]
  },
  {
   "cell_type": "code",
   "execution_count": 61,
   "id": "9e1a93ee",
   "metadata": {},
   "outputs": [
    {
     "data": {
      "image/png": "[encoded data removed]",
      "text/plain": [
       "<Figure size 432x288 with 1 Axes>"
      ]
     },
     "metadata": {},
     "output_type": "display_data"
    }
   ],
   "source": [
    "sduration.plot(kind = 'pie',   title= 'Time duration at which the least trips were completed', autopct='%1.1f%%', shadow=True, startangle=0, legend=False);"
   ]
  },
  {
   "cell_type": "markdown",
   "id": "ea58a636",
   "metadata": {},
   "source": [
    "### Answer: The least trips were concluded in 6778 sec, 3171 sec, 5410 sec, 16867 sec and 169 sec."
   ]
  },
  {
   "cell_type": "markdown",
   "id": "e4d00474",
   "metadata": {},
   "source": [
    "#### Exploring the most user type"
   ]
  },
  {
   "cell_type": "code",
   "execution_count": 62,
   "id": "4d2c3ed3",
   "metadata": {},
   "outputs": [],
   "source": [
    "mUsertype = goBike_clean.user_type.value_counts()"
   ]
  },
  {
   "cell_type": "code",
   "execution_count": 63,
   "id": "ba68498d",
   "metadata": {},
   "outputs": [
    {
     "data": {
      "text/plain": [
       "Subscriber    163544\n",
       "Customer       19868\n",
       "Name: user_type, dtype: int64"
      ]
     },
     "execution_count": 63,
     "metadata": {},
     "output_type": "execute_result"
    }
   ],
   "source": [
    "mUsertype"
   ]
  },
  {
   "cell_type": "markdown",
   "id": "e05dbd0b",
   "metadata": {},
   "source": [
    "### Question: What is the modal user type?"
   ]
  },
  {
   "cell_type": "code",
   "execution_count": 64,
   "id": "733fd18e",
   "metadata": {},
   "outputs": [
    {
     "data": {
      "image/png": "[encoded data removed]",
      "text/plain": [
       "<Figure size 432x288 with 1 Axes>"
      ]
     },
     "metadata": {},
     "output_type": "display_data"
    }
   ],
   "source": [
    "mUsertype.plot (kind = 'pie',   title= 'the most user type', autopct='%1.1f%%', shadow=True, startangle=0, legend=True);\n",
    "    "
   ]
  },
  {
   "cell_type": "markdown",
   "id": "76e58cd3",
   "metadata": {},
   "source": [
    "### Answer: The modal User type is the `suscriber` with a total percentage of '89.2%'"
   ]
  },
  {
   "cell_type": "markdown",
   "id": "1d16034a",
   "metadata": {},
   "source": [
    "#### Exploring the `bike_share_for_all_trip`"
   ]
  },
  {
   "cell_type": "markdown",
   "id": "1ccab16d",
   "metadata": {},
   "source": [
    "### Question: What is the total percentage of bike_share_for_trips?"
   ]
  },
  {
   "cell_type": "code",
   "execution_count": 65,
   "id": "7a8a7294",
   "metadata": {},
   "outputs": [],
   "source": [
    "bikeShare = goBike_clean.bike_share_for_all_trip.value_counts()"
   ]
  },
  {
   "cell_type": "code",
   "execution_count": 66,
   "id": "1f5e387b",
   "metadata": {},
   "outputs": [
    {
     "data": {
      "text/plain": [
       "No     166053\n",
       "Yes     17359\n",
       "Name: bike_share_for_all_trip, dtype: int64"
      ]
     },
     "execution_count": 66,
     "metadata": {},
     "output_type": "execute_result"
    }
   ],
   "source": [
    "bikeShare"
   ]
  },
  {
   "cell_type": "code",
   "execution_count": 67,
   "id": "731f4ace",
   "metadata": {},
   "outputs": [
    {
     "data": {
      "image/png": "[encoded data removed]",
      "text/plain": [
       "<Figure size 432x288 with 1 Axes>"
      ]
     },
     "metadata": {},
     "output_type": "display_data"
    }
   ],
   "source": [
    "bikeShare.plot(kind='pie',autopct='%1.1f%%');"
   ]
  },
  {
   "cell_type": "markdown",
   "id": "3d635832",
   "metadata": {},
   "source": [
    "###  Answer: `90%` of the riders did not share a bike to complete their trip, while `9.5%` did share bikes"
   ]
  },
  {
   "cell_type": "markdown",
   "id": "c3f860ec",
   "metadata": {},
   "source": [
    "#### Exploring the modal_member_birth_year"
   ]
  },
  {
   "cell_type": "markdown",
   "id": "17908a42",
   "metadata": {},
   "source": [
    "### In what year were most of the riders born?"
   ]
  },
  {
   "cell_type": "code",
   "execution_count": 68,
   "id": "caaed795",
   "metadata": {},
   "outputs": [],
   "source": [
    "mByear = goBike_clean.member_birth_year.value_counts().nlargest()"
   ]
  },
  {
   "cell_type": "code",
   "execution_count": 69,
   "id": "e114c655",
   "metadata": {},
   "outputs": [
    {
     "data": {
      "image/png": "[encoded data removed]",
      "text/plain": [
       "<Figure size 432x288 with 1 Axes>"
      ]
     },
     "metadata": {
      "needs_background": "light"
     },
     "output_type": "display_data"
    }
   ],
   "source": [
    "mByear.plot(kind = 'bar', xlabel = 'year', ylabel = 'count', color = 'maroon');"
   ]
  },
  {
   "cell_type": "markdown",
   "id": "27fe6eef",
   "metadata": {},
   "source": [
    "### Majority of the riders were born in `1988`"
   ]
  },
  {
   "cell_type": "markdown",
   "id": "e66d281d",
   "metadata": {},
   "source": [
    "* There are a total of `138916` males who took part in the bike rides and a total of `40844` females while `3652` prefered to be identified as others\n",
    "* `21.1%` of the population took 272 seconds to complete the ride which is the modal time taken by the riders to complete their rides\n",
    "* Only one rider took as much as `31691 seconds` to complete their ride\n",
    "* `726.078435 seconds` is the average time taken by riders to complete their rides\n",
    "* `89.2%` of the riders are subscribers while only `10.8%` are customers.\n",
    "* Modal_birth year of riders is 1988    \n",
    "* 95% of riders did not share their bikes"
   ]
  },
  {
   "cell_type": "markdown",
   "id": "ff118f40",
   "metadata": {},
   "source": [
    "## Question: What is the percentage of ride frequency by user_type?"
   ]
  },
  {
   "cell_type": "code",
   "execution_count": 70,
   "id": "856a2df7",
   "metadata": {},
   "outputs": [
    {
     "data": {
      "image/png": "[encoded data removed]",
      "text/plain": [
       "<Figure size 432x288 with 1 Axes>"
      ]
     },
     "metadata": {
      "needs_background": "light"
     },
     "output_type": "display_data"
    }
   ],
   "source": [
    "import matplotlib.pyplot as plt\n",
    "import seaborn as sb\n",
    "# ride frequency per user type\n",
    "ax = sb.countplot(data = goBike_clean, x = 'user_type',  color=sb.color_palette()[0], order=goBike_clean.user_type.value_counts().index)\n",
    "\n",
    "total = len(goBike_clean)\n",
    "for p in ax.patches:\n",
    "    percentage = '{:.3f}%'.format(100 * p.get_height()/total)\n",
    "    x = p.get_x() + p.get_width()/2\n",
    "    y = p.get_height()+.05\n",
    "    ax.annotate(percentage, (x, y),ha='center')\n",
    "plt.show();"
   ]
  },
  {
   "cell_type": "markdown",
   "id": "89632196",
   "metadata": {},
   "source": [
    "## Answer: The subscriber user_type has the highest frquency which is a total of `89.168%`"
   ]
  },
  {
   "cell_type": "markdown",
   "id": "98531cd5",
   "metadata": {},
   "source": [
    "## Keeping tabs on start days and end days to draw insights"
   ]
  },
  {
   "cell_type": "code",
   "execution_count": 71,
   "id": "631e0136",
   "metadata": {},
   "outputs": [],
   "source": [
    "import datetime as dt\n",
    "goBike_clean['start_day'] = goBike_clean['start_time'].dt.day_name()\n",
    "goBike_clean['start_month'] = goBike_clean['start_time'].dt.month_name()\n",
    "goBike_clean['start_hr'] = goBike_clean['start_time'].dt.hour\n",
    "goBike_clean['start_hr'] = goBike_clean.start_hr.astype(str)\n",
    "goBike_clean['end_day'] = goBike_clean['end_time'].dt.day_name()\n",
    "goBike_clean['end_month'] = goBike_clean['end_time'].dt.month_name()\n",
    "goBike_clean['end_hr'] = goBike_clean['end_time'].dt.hour\n",
    "goBike_clean['end_hr'] = goBike_clean.end_hr.astype(str)"
   ]
  },
  {
   "cell_type": "markdown",
   "id": "25aa1c79",
   "metadata": {},
   "source": [
    "##  converting days and hours into ordinal data types"
   ]
  },
  {
   "cell_type": "code",
   "execution_count": 72,
   "id": "635eb094",
   "metadata": {},
   "outputs": [],
   "source": [
    "# convert day, and hour into ordered categorical types\n",
    "ordinal_var_dict = {'start_day': ['Sunday','Monday','Tuesday','Wednesday','Thursday', 'Friday', 'Saturday'],\n",
    "                    'end_day': ['Sunday','Monday','Tuesday','Wednesday','Thursday', 'Friday', 'Saturday'],\n",
    "                   'start_hr': [str(i) for i in range(0,24)],\n",
    "                   'end_hr': [str(i) for i in range(0,24)]}\n",
    "\n",
    "for var in ordinal_var_dict:\n",
    "    ordered_var = pd.api.types.CategoricalDtype(ordered = True,\n",
    "                                                categories = ordinal_var_dict[var])\n",
    "    goBike_clean[var] = goBike_clean[var].astype(ordered_var)"
   ]
  },
  {
   "cell_type": "markdown",
   "id": "0b4b6eb2",
   "metadata": {},
   "source": [
    "## Question 1: what day of the week has the highest rides?\n",
    "## Question 2: what effect does the weekend has on ride completion?"
   ]
  },
  {
   "cell_type": "code",
   "execution_count": 73,
   "id": "2220e67a",
   "metadata": {},
   "outputs": [
    {
     "data": {
      "text/plain": [
       "<AxesSubplot:xlabel='end_day', ylabel='count'>"
      ]
     },
     "execution_count": 73,
     "metadata": {},
     "output_type": "execute_result"
    },
    {
     "data": {
      "image/png": "[encoded data removed]",
      "text/plain": [
       "<Figure size 576x576 with 2 Axes>"
      ]
     },
     "metadata": {
      "needs_background": "light"
     },
     "output_type": "display_data"
    }
   ],
   "source": [
    "# ride frequency per days\n",
    "\n",
    "fig, ax = plt.subplots(2, figsize = [8,8])\n",
    "\n",
    "default_color = sb.color_palette()[0]\n",
    "sb.countplot(data = goBike_clean, x = 'start_day', color = 'gold',  ax = ax[0])\n",
    "sb.countplot(data = goBike_clean, x = 'end_day', color = 'magenta',  ax = ax[1])"
   ]
  },
  {
   "cell_type": "markdown",
   "id": "b857daf9",
   "metadata": {},
   "source": [
    "## Answer 1: I find out that for some reason, the most rides were completed on Thursdays\n",
    "## Answer 2: The least rides were started and completed during the weekend days of Saturday and Sundays, which implies that most of the members only take their trips on weekdays"
   ]
  },
  {
   "cell_type": "markdown",
   "id": "460c0e65",
   "metadata": {},
   "source": [
    "## Question 1: In what hour were the most trips started?\n",
    "## Question 2: In what hour were the most trips completed?\n",
    "## Question 3: In what hour were the least trips started?\n",
    "## Question 4: In what hour were the least trips ended?"
   ]
  },
  {
   "cell_type": "code",
   "execution_count": 74,
   "id": "948fbfd6",
   "metadata": {},
   "outputs": [
    {
     "data": {
      "text/plain": [
       "<AxesSubplot:xlabel='end_hr', ylabel='count'>"
      ]
     },
     "execution_count": 74,
     "metadata": {},
     "output_type": "execute_result"
    },
    {
     "data": {
      "image/png": "[encoded data removed]",
      "text/plain": [
       "<Figure size 576x576 with 2 Axes>"
      ]
     },
     "metadata": {
      "needs_background": "light"
     },
     "output_type": "display_data"
    }
   ],
   "source": [
    "# ride frequency per hours\n",
    "\n",
    "fig, ax = plt.subplots(2,figsize = [8,8])\n",
    "\n",
    "default_color = sb.color_palette()[0]\n",
    "sb.countplot(data = goBike_clean, x = 'start_hr', color = 'maroon',  ax = ax[0])\n",
    "sb.countplot(data = goBike_clean, x = 'end_hr', color = 'green', ax = ax[1])"
   ]
  },
  {
   "cell_type": "markdown",
   "id": "166429da",
   "metadata": {},
   "source": [
    "## Answer 1: Most trips started at  `17:00` Hrs which means most bikers prefer evening rides\n",
    "## Answer 2: Most trips were also completed within the same hour they were started, which will mean the majority of the trips lasted a duration less than an hour.\n",
    "## Answer 3: The least trips started around `03:00` and `04:000` Hrs. This is very logical as by this time, most people are still asleep.\n",
    "## Answer 4: The least trips also ended around `03:00` and `04:00` Hrs."
   ]
  },
  {
   "cell_type": "markdown",
   "id": "79ba7240",
   "metadata": {},
   "source": [
    "## Bivariate Exploration"
   ]
  },
  {
   "cell_type": "code",
   "execution_count": 75,
   "id": "c8c5a666",
   "metadata": {},
   "outputs": [],
   "source": [
    "import matplotlib.pyplot as plt\n",
    "import seaborn as sb\n",
    "import numpy as np"
   ]
  },
  {
   "cell_type": "code",
   "execution_count": 76,
   "id": "568395df",
   "metadata": {},
   "outputs": [],
   "source": [
    "variable = ['user_type', 'member_gender', 'bike_share_for_all_trip', 'start_day','end_day', 'start_hr', 'end_hr']"
   ]
  },
  {
   "cell_type": "markdown",
   "id": "809e243c",
   "metadata": {},
   "source": [
    "### Question 1: On an Average, what user type spends the most time in completing their trips?\n",
    "### Question 2: What is the bikeshare in relationship to the user types?"
   ]
  },
  {
   "cell_type": "code",
   "execution_count": 77,
   "id": "952f97ef",
   "metadata": {},
   "outputs": [
    {
     "name": "stderr",
     "output_type": "stream",
     "text": [
      "C:\\ProgramData\\Anaconda3\\lib\\site-packages\\seaborn\\axisgrid.py:1209: UserWarning: The `size` parameter has been renamed to `height`; please update your code.\n",
      "  warnings.warn(UserWarning(msg))\n",
      "C:\\ProgramData\\Anaconda3\\lib\\site-packages\\seaborn\\_decorators.py:36: FutureWarning: Pass the following variables as keyword args: x, y. From version 0.12, the only valid positional argument will be `data`, and passing other arguments without an explicit keyword will result in an error or misinterpretation.\n",
      "  warnings.warn(\n",
      "C:\\ProgramData\\Anaconda3\\lib\\site-packages\\seaborn\\_decorators.py:36: FutureWarning: Pass the following variables as keyword args: x, y. From version 0.12, the only valid positional argument will be `data`, and passing other arguments without an explicit keyword will result in an error or misinterpretation.\n",
      "  warnings.warn(\n",
      "C:\\ProgramData\\Anaconda3\\lib\\site-packages\\seaborn\\_decorators.py:36: FutureWarning: Pass the following variables as keyword args: x, y. From version 0.12, the only valid positional argument will be `data`, and passing other arguments without an explicit keyword will result in an error or misinterpretation.\n",
      "  warnings.warn(\n"
     ]
    },
    {
     "data": {
      "text/plain": [
       "<Figure size 1440x1440 with 0 Axes>"
      ]
     },
     "metadata": {},
     "output_type": "display_data"
    },
    {
     "data": {
      "image/png": "[encoded data removed]",
      "text/plain": [
       "<Figure size 540x360 with 3 Axes>"
      ]
     },
     "metadata": {
      "needs_background": "light"
     },
     "output_type": "display_data"
    }
   ],
   "source": [
    "\n",
    "\n",
    "samples = np.random.choice(goBike_clean.shape[0], 2000, replace = False)\n",
    "samp_2 = goBike_clean.loc[samples,:]\n",
    "\n",
    "\n",
    "def boxgrid(x, y, **kwargs):\n",
    "    \"\"\" Quick hack for creating box plots with seaborn's PairGrid. \"\"\"\n",
    "    default_color = sb.color_palette()[5]\n",
    "    sb.boxplot(x, y, color = 'grey')\n",
    "\n",
    "plt.figure(figsize = [20, 20])\n",
    "g = sb.PairGrid(data = samp_2, y_vars = 'duration_sec', x_vars = ['user_type', 'member_gender', \n",
    "                                                                         'bike_share_for_all_trip'],\n",
    "                size = 5, aspect = 0.5)\n",
    "g.map(boxgrid)\n",
    "plt.ylim([0,5000])\n",
    "plt.show();"
   ]
  },
  {
   "cell_type": "markdown",
   "id": "9fc1e5c6",
   "metadata": {},
   "source": [
    "### Answers:\n",
    "* From my analysis, customers spend more time on average than subscribers. Also the female gender spends higher time on average than the male gender in completing their rides.\n",
    "* The `Bike share` for all trips is across all types of members."
   ]
  },
  {
   "cell_type": "markdown",
   "id": "9141136a",
   "metadata": {},
   "source": [
    "## Question: what is the relationship between user type, bike_share and number of users?"
   ]
  },
  {
   "cell_type": "code",
   "execution_count": 78,
   "id": "5ddd2831",
   "metadata": {},
   "outputs": [
    {
     "data": {
      "image/png": "[encoded data removed]",
      "text/plain": [
       "<Figure size 432x720 with 3 Axes>"
      ]
     },
     "metadata": {
      "needs_background": "light"
     },
     "output_type": "display_data"
    }
   ],
   "source": [
    "# since there's only three subplots to create, using the full data should be fine.\n",
    "plt.figure(figsize = [6, 10])\n",
    "\n",
    "# subplot 1: user_type vs bike_share_for_all_trip\n",
    "plt.subplot(3, 1, 1)\n",
    "sb.countplot(data = goBike_clean, x = 'user_type', hue = 'bike_share_for_all_trip', order=goBike_clean.user_type.value_counts().index,\n",
    "             palette = 'Reds')\n",
    "\n",
    "# subplot 2: end_day vs. user_type\n",
    "ax = plt.subplot(3, 1, 2)\n",
    "sb.countplot(data = goBike_clean, x = 'start_day', hue = 'user_type', palette = 'Blues')\n",
    "ax.legend(ncol = 2) # re-arrange legend to reduce overlapping\n",
    "plt.xticks(rotation=15)\n",
    "\n",
    "# subplot 3: user_type vs. member_gender, \n",
    "ax = plt.subplot(3, 1, 3)\n",
    "sb.countplot(data = goBike_clean, x = 'user_type', hue = 'member_gender',order=goBike_clean.user_type.value_counts().index,\n",
    "             palette = 'Greens')\n",
    "ax.legend(loc = 1, ncol = 2) # re-arrange legend to remove overlapping\n",
    "plt.show()"
   ]
  },
  {
   "cell_type": "markdown",
   "id": "c580adbb",
   "metadata": {},
   "source": [
    "## Answers: From the plot above, it is clear that  a greater number of members did not share their bikes to complete their trips, and also the customer type does not affect the number of trips in any week at all"
   ]
  },
  {
   "cell_type": "markdown",
   "id": "9544c9a6",
   "metadata": {},
   "source": [
    "## Multivariate Exploration"
   ]
  },
  {
   "cell_type": "markdown",
   "id": "8164f618",
   "metadata": {},
   "source": [
    "## Question: What factors affect the duration of trips of the member?"
   ]
  },
  {
   "cell_type": "code",
   "execution_count": 80,
   "id": "da68e712",
   "metadata": {},
   "outputs": [
    {
     "data": {
      "image/png": "[encoded data removed]",
      "text/plain": [
       "<Figure size 576x432 with 1 Axes>"
      ]
     },
     "metadata": {
      "needs_background": "light"
     },
     "output_type": "display_data"
    }
   ],
   "source": [
    "fig = plt.figure(figsize = [8,6])\n",
    "ax = sb.pointplot(data = goBike_clean, x ='start_day', y = 'duration_sec', hue = 'user_type',\n",
    "           palette = 'Blues', linestyles = '', dodge = 0.4)\n",
    "plt.title('Trip Duration across week days and customer type')\n",
    "plt.ylabel('Average Trip Duration (Secs)')\n",
    "# plt.yscale('log')\n",
    "# plt.yticks([2e3, 4e3, 6e3, 1e4], ['2k', '4k', '6k', '10k'])\n",
    "ax.set_yticklabels([],minor = True)\n",
    "plt.show();"
   ]
  },
  {
   "cell_type": "markdown",
   "id": "6c0d5bd2",
   "metadata": {},
   "source": [
    "## Answer: Customers travel very longer distance regardless the day of the week(longest on weekends) whereas subscribers generally travel short distance with litle increase on weekends but not up to that of the customers."
   ]
  },
  {
   "cell_type": "markdown",
   "id": "63229025",
   "metadata": {},
   "source": [
    "## Does the member gender affect duration of trip?"
   ]
  },
  {
   "cell_type": "code",
   "execution_count": 81,
   "id": "2e90d06e",
   "metadata": {},
   "outputs": [
    {
     "data": {
      "image/png": "[encoded data removed]",
      "text/plain": [
       "<Figure size 576x432 with 1 Axes>"
      ]
     },
     "metadata": {
      "needs_background": "light"
     },
     "output_type": "display_data"
    }
   ],
   "source": [
    "fig = plt.figure(figsize = [8,6])\n",
    "ax = sb.pointplot(data = goBike_clean, x ='member_gender', y = 'duration_sec', hue = 'user_type',\n",
    "           palette = 'Blues', linestyles = '', dodge = 0.4)\n",
    "plt.title('Trip Duration across gender and customer type')\n",
    "plt.ylabel('Average Trip Duration (Secs)')\n",
    "0\n",
    "ax.set_yticklabels([],minor = True)\n",
    "plt.show();\n"
   ]
  },
  {
   "cell_type": "markdown",
   "id": "3b8184d0",
   "metadata": {},
   "source": [
    "## For all members, the other gender spends the most time to complete trips, so yes, I can say that yes, the member type affects the duration of trips"
   ]
  },
  {
   "cell_type": "code",
   "execution_count": null,
   "id": "f345b9da",
   "metadata": {},
   "outputs": [],
   "source": []
  }
 ],
 "metadata": {
  "kernelspec": {
   "display_name": "Python 3 (ipykernel)",
   "language": "python",
   "name": "python3"
  },
  "language_info": {
   "codemirror_mode": {
    "name": "ipython",
    "version": 3
   },
   "file_extension": ".py",
   "mimetype": "text/x-python",
   "name": "python",
   "nbconvert_exporter": "python",
   "pygments_lexer": "ipython3",
   "version": "3.9.7"
  }
 },
 "nbformat": 4,
 "nbformat_minor": 5
}
